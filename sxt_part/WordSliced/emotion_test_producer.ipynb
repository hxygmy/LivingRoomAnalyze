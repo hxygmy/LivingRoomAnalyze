{
 "cells": [
  {
   "cell_type": "code",
   "execution_count": 8,
   "metadata": {},
   "outputs": [
    {
     "ename": "KeyboardInterrupt",
     "evalue": "",
     "output_type": "error",
     "traceback": [
      "\u001b[0;31m---------------------------------------------------------------------------\u001b[0m",
      "\u001b[0;31mKeyboardInterrupt\u001b[0m                         Traceback (most recent call last)",
      "Cell \u001b[0;32mIn[8], line 25\u001b[0m\n\u001b[1;32m     21\u001b[0m         sleep(\u001b[38;5;241m1\u001b[39m)\n\u001b[1;32m     24\u001b[0m \u001b[38;5;28;01mif\u001b[39;00m \u001b[38;5;18m__name__\u001b[39m \u001b[38;5;241m==\u001b[39m \u001b[38;5;124m'\u001b[39m\u001b[38;5;124m__main__\u001b[39m\u001b[38;5;124m'\u001b[39m:\n\u001b[0;32m---> 25\u001b[0m     \u001b[43mwrite_data\u001b[49m\u001b[43m(\u001b[49m\u001b[43m)\u001b[49m\n",
      "Cell \u001b[0;32mIn[8], line 21\u001b[0m, in \u001b[0;36mwrite_data\u001b[0;34m()\u001b[0m\n\u001b[1;32m     18\u001b[0m cur_data \u001b[38;5;241m=\u001b[39m {\u001b[38;5;124m\"\u001b[39m\u001b[38;5;124m蒸\u001b[39m\u001b[38;5;124m\"\u001b[39m: i,\u001b[38;5;124m\"\u001b[39m\u001b[38;5;124m馍馍\u001b[39m\u001b[38;5;124m\"\u001b[39m:\u001b[38;5;241m0\u001b[39m,\u001b[38;5;124m\"\u001b[39m\u001b[38;5;124mtime\u001b[39m\u001b[38;5;124m\"\u001b[39m:ts}\n\u001b[1;32m     20\u001b[0m producer\u001b[38;5;241m.\u001b[39msend(topic, value\u001b[38;5;241m=\u001b[39mcur_data)\n\u001b[0;32m---> 21\u001b[0m \u001b[43msleep\u001b[49m\u001b[43m(\u001b[49m\u001b[38;5;241;43m1\u001b[39;49m\u001b[43m)\u001b[49m\n",
      "\u001b[0;31mKeyboardInterrupt\u001b[0m: "
     ]
    }
   ],
   "source": [
    "import random\n",
    "import time, calendar\n",
    "from random import randint\n",
    "from kafka import KafkaProducer\n",
    "from json import dumps\n",
    "from time import sleep\n",
    "\n",
    "def write_data():\n",
    "    data_cnt = 2000000000\n",
    "    topic = \"test2\"  # 修改为你需要的 Kafka topic\n",
    "    producer = KafkaProducer(bootstrap_servers=['localhost:9092'],\n",
    "                             value_serializer=lambda x: dumps(x).encode('utf-8'))\n",
    "\n",
    "    for i in range(data_cnt):\n",
    "        ts = time.strftime(\"%Y-%m-%d %H:%M:%S\", time.localtime())\n",
    "        rd = random.random()\n",
    "        emotion_id=randint(0, 6)\n",
    "        cur_data = {\"蒸\": i,\"馍馍\":0,\"time\":ts}\n",
    "        \n",
    "        producer.send(topic, value=cur_data)\n",
    "        sleep(1)\n",
    "\n",
    "\n",
    "if __name__ == '__main__':\n",
    "    write_data()\n"
   ]
  }
 ],
 "metadata": {
  "kernelspec": {
   "display_name": "Python 3",
   "language": "python",
   "name": "python3"
  },
  "language_info": {
   "codemirror_mode": {
    "name": "ipython",
    "version": 3
   },
   "file_extension": ".py",
   "mimetype": "text/x-python",
   "name": "python",
   "nbconvert_exporter": "python",
   "pygments_lexer": "ipython3",
   "version": "3.10.12"
  }
 },
 "nbformat": 4,
 "nbformat_minor": 2
}
