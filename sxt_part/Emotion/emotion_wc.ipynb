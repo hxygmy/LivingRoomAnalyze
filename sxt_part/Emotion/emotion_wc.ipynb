{
 "cells": [
  {
   "cell_type": "code",
   "execution_count": null,
   "metadata": {},
   "outputs": [
    {
     "ename": "KeyboardInterrupt",
     "evalue": "",
     "output_type": "error",
     "traceback": [
      "\u001b[1;31m---------------------------------------------------------------------------\u001b[0m",
      "\u001b[1;31mKeyboardInterrupt\u001b[0m                         Traceback (most recent call last)",
      "Cell \u001b[1;32mIn[1], line 62\u001b[0m\n\u001b[0;32m     59\u001b[0m file_path \u001b[38;5;241m=\u001b[39m \u001b[38;5;124m'\u001b[39m\u001b[38;5;124mdata.json\u001b[39m\u001b[38;5;124m'\u001b[39m  \u001b[38;5;66;03m# 替换为你的文件路径\u001b[39;00m\n\u001b[0;32m     61\u001b[0m \u001b[38;5;66;03m# 启动词云刷新，每2秒刷新一次\u001b[39;00m\n\u001b[1;32m---> 62\u001b[0m refresh_wordcloud(interval\u001b[38;5;241m=\u001b[39m\u001b[38;5;241m2000\u001b[39m, file_path\u001b[38;5;241m=\u001b[39mfile_path)\n",
      "Cell \u001b[1;32mIn[1], line 56\u001b[0m, in \u001b[0;36mrefresh_wordcloud\u001b[1;34m(interval, file_path)\u001b[0m\n\u001b[0;32m     53\u001b[0m clear_output(wait\u001b[38;5;241m=\u001b[39m\u001b[38;5;28;01mTrue\u001b[39;00m)\n\u001b[0;32m     55\u001b[0m \u001b[38;5;66;03m# 等待指定的时间间隔\u001b[39;00m\n\u001b[1;32m---> 56\u001b[0m time\u001b[38;5;241m.\u001b[39msleep(interval \u001b[38;5;241m/\u001b[39m \u001b[38;5;241m1000\u001b[39m)\n",
      "\u001b[1;31mKeyboardInterrupt\u001b[0m: "
     ]
    }
   ],
   "source": [
    "import json\n",
    "from collections import Counter\n",
    "from wordcloud import WordCloud\n",
    "import matplotlib.pyplot as plt\n",
    "from IPython.display import display, clear_output\n",
    "import time\n",
    "\n",
    "%matplotlib inline\n",
    "\n",
    "# 创建一个函数来生成词云\n",
    "def generate_wordcloud(text):\n",
    "    wordcloud = WordCloud(width=800, height=400, background_color='white').generate(text)\n",
    "    return wordcloud\n",
    "\n",
    "# 从 JSON 文件读取数据\n",
    "def read_json_data(file_path):\n",
    "    try:\n",
    "        with open(file_path, 'r', encoding='utf-8') as file:\n",
    "            data = json.load(file)\n",
    "        return data  # 返回整个 JSON 数据\n",
    "    except Exception as e:\n",
    "        print(f\"Error reading {file_path}: {e}\")\n",
    "        return {}\n",
    "\n",
    "# 根据情感数据生成词云文本\n",
    "def generate_emotion_text(json_data):\n",
    "    emotions = [item.get('emotion', 'Unknown') for item in json_data.values()]\n",
    "    emotion_counts = Counter(emotions)\n",
    "    # 将情感及其计数转换为格式：emotion1: count1, emotion2: count2, ...\n",
    "    emotion_text = \" \".join([f\"{emotion}:{count}\" for emotion, count in emotion_counts.items()])\n",
    "    return emotion_text\n",
    "\n",
    "# 定期刷新词云图片\n",
    "def refresh_wordcloud(interval=1000, file_path='data.json'):\n",
    "    while True:\n",
    "        # 读取最新的 JSON 数据\n",
    "        json_data = read_json_data(file_path)\n",
    "        \n",
    "        # 根据情感数据生成文本\n",
    "        text = generate_emotion_text(json_data)\n",
    "        \n",
    "        # 生成新的词云\n",
    "        wordcloud = generate_wordcloud(text)\n",
    "        \n",
    "        # 显示词云\n",
    "        plt.figure(figsize=(10, 5))\n",
    "        plt.imshow(wordcloud, interpolation='bilinear')\n",
    "        plt.axis('off')  # 关闭坐标轴\n",
    "        plt.title(\"Real-Time Emotion Word Cloud\")\n",
    "        plt.show()\n",
    "        \n",
    "        # 清除输出以便下一次刷新\n",
    "        clear_output(wait=True)\n",
    "        \n",
    "        # 等待指定的时间间隔\n",
    "        time.sleep(interval / 1000)  # 将毫秒转换为秒\n",
    "\n",
    "# 设置文件路径\n",
    "file_path = 'data.json'  # 替换为你的文件路径\n",
    "\n",
    "# 启动词云刷新，每2秒刷新一次\n",
    "refresh_wordcloud(interval=3000, file_path=file_path)"
   ]
  }
 ],
 "metadata": {
  "kernelspec": {
   "display_name": "base",
   "language": "python",
   "name": "python3"
  },
  "language_info": {
   "codemirror_mode": {
    "name": "ipython",
    "version": 3
   },
   "file_extension": ".py",
   "mimetype": "text/x-python",
   "name": "python",
   "nbconvert_exporter": "python",
   "pygments_lexer": "ipython3",
   "version": "3.11.5"
  }
 },
 "nbformat": 4,
 "nbformat_minor": 2
}
